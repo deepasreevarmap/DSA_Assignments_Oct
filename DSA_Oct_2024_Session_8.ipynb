{
  "nbformat": 4,
  "nbformat_minor": 0,
  "metadata": {
    "colab": {
      "provenance": []
    },
    "kernelspec": {
      "name": "python3",
      "display_name": "Python 3"
    },
    "language_info": {
      "name": "python"
    }
  },
  "cells": [
    {
      "cell_type": "markdown",
      "source": [
        "While Loop"
      ],
      "metadata": {
        "id": "tFm4B4S46N4Z"
      }
    },
    {
      "cell_type": "code",
      "execution_count": 1,
      "metadata": {
        "colab": {
          "base_uri": "https://localhost:8080/"
        },
        "id": "8P4IOv8A2ogo",
        "outputId": "40a258e8-1bd5-49c8-f190-7687e93044c5"
      },
      "outputs": [
        {
          "output_type": "stream",
          "name": "stdout",
          "text": [
            "1\n",
            "2\n",
            "3\n",
            "4\n",
            "5\n",
            "6\n",
            "7\n",
            "8\n",
            "9\n"
          ]
        }
      ],
      "source": [
        "a = 1\n",
        "while a<10:   #condition check\n",
        "  print(a)\n",
        "  a+=1"
      ]
    },
    {
      "cell_type": "code",
      "source": [
        "#print numbers from 10 to 1\n",
        "num = 10\n",
        "while num>0:\n",
        "  print(num,end=\" \")\n",
        "  num-=1\n"
      ],
      "metadata": {
        "colab": {
          "base_uri": "https://localhost:8080/"
        },
        "id": "LamD0TqS6iwe",
        "outputId": "acfb995c-138d-465b-ede6-bb348570732a"
      },
      "execution_count": 4,
      "outputs": [
        {
          "output_type": "stream",
          "name": "stdout",
          "text": [
            "10 9 8 7 6 5 4 3 2 1 "
          ]
        }
      ]
    },
    {
      "cell_type": "code",
      "source": [
        "# 3 * 1 = 3\n",
        "# 3 * 2 = 6\n",
        "# Multiplication Table\n",
        "\n",
        "mul = 3\n",
        "num = 1\n",
        "while num<=10:\n",
        "  print(f\"{mul} * {num} = {mul*num}\")\n",
        "  num+=1   #num = num+1\n"
      ],
      "metadata": {
        "colab": {
          "base_uri": "https://localhost:8080/"
        },
        "id": "tRozK8Ak6-Yk",
        "outputId": "f6159942-1217-4e17-85a7-c6af8ab086e8"
      },
      "execution_count": 7,
      "outputs": [
        {
          "output_type": "stream",
          "name": "stdout",
          "text": [
            "3 * 1 = 3\n",
            "3 * 2 = 6\n",
            "3 * 3 = 9\n",
            "3 * 4 = 12\n",
            "3 * 5 = 15\n",
            "3 * 6 = 18\n",
            "3 * 7 = 21\n",
            "3 * 8 = 24\n",
            "3 * 9 = 27\n",
            "3 * 10 = 30\n"
          ]
        }
      ]
    },
    {
      "cell_type": "code",
      "source": [
        "#Calculate the sum of the first n natural numbers using a while loop.\n",
        "\n",
        "#8     8+7+6+5+4+3+2+1\n",
        "#4     4+3+2+1\n",
        "\n",
        "total = 0\n",
        "num = int(input(\"Enter a number\"))\n",
        "while num > 0:\n",
        "  total = total+num\n",
        "  num-=1\n",
        "print(f\"Total is {total}\")\n",
        "\n",
        "\n"
      ],
      "metadata": {
        "colab": {
          "base_uri": "https://localhost:8080/"
        },
        "id": "-fZ8Kjp_9j9z",
        "outputId": "8b920442-9135-46ad-b93c-5224942e27a1"
      },
      "execution_count": 8,
      "outputs": [
        {
          "output_type": "stream",
          "name": "stdout",
          "text": [
            "Enter a number8\n",
            "Total is 36\n"
          ]
        }
      ]
    },
    {
      "cell_type": "code",
      "source": [
        "def add_two(num1,num2):\n",
        "  return num1+num2"
      ],
      "metadata": {
        "id": "ytXpyCXP_s_C"
      },
      "execution_count": 9,
      "outputs": []
    },
    {
      "cell_type": "code",
      "source": [
        "add_two(2,3)"
      ],
      "metadata": {
        "colab": {
          "base_uri": "https://localhost:8080/"
        },
        "id": "Tcm2SqVZBq2K",
        "outputId": "4f5b56c3-742a-4ba3-fbf2-280d4661c83e"
      },
      "execution_count": 10,
      "outputs": [
        {
          "output_type": "execute_result",
          "data": {
            "text/plain": [
              "5"
            ]
          },
          "metadata": {},
          "execution_count": 10
        }
      ]
    },
    {
      "cell_type": "code",
      "source": [
        "add_two(2.7,3.9)"
      ],
      "metadata": {
        "colab": {
          "base_uri": "https://localhost:8080/"
        },
        "id": "2EqUMuijBs9y",
        "outputId": "78608b08-9e93-4591-850c-97448cf1cf3d"
      },
      "execution_count": 11,
      "outputs": [
        {
          "output_type": "execute_result",
          "data": {
            "text/plain": [
              "6.6"
            ]
          },
          "metadata": {},
          "execution_count": 11
        }
      ]
    },
    {
      "cell_type": "code",
      "source": [
        "add_two('hi ','friend')"
      ],
      "metadata": {
        "colab": {
          "base_uri": "https://localhost:8080/",
          "height": 35
        },
        "id": "3o9Jp6IsBv4I",
        "outputId": "ca13c5d7-048c-4260-e49d-f8cae497baeb"
      },
      "execution_count": 12,
      "outputs": [
        {
          "output_type": "execute_result",
          "data": {
            "text/plain": [
              "'hi friend'"
            ],
            "application/vnd.google.colaboratory.intrinsic+json": {
              "type": "string"
            }
          },
          "metadata": {},
          "execution_count": 12
        }
      ]
    },
    {
      "cell_type": "code",
      "source": [
        "#Function to find largest of 3 numbers\n",
        "def largest(num1,num2,num3):\n",
        "  if num1>num2 and num1>num3:\n",
        "    return num1\n",
        "  elif num2>num1 and num2>num3:\n",
        "    return num2\n",
        "  else:\n",
        "    return num3"
      ],
      "metadata": {
        "id": "6Vb-2TZVB8bV"
      },
      "execution_count": 13,
      "outputs": []
    },
    {
      "cell_type": "code",
      "source": [
        "largest(89.67,78.99,90.99)"
      ],
      "metadata": {
        "colab": {
          "base_uri": "https://localhost:8080/"
        },
        "id": "HCVSLbubCl5K",
        "outputId": "ce2b1942-6037-4d4f-d736-0680c35d1661"
      },
      "execution_count": 15,
      "outputs": [
        {
          "output_type": "execute_result",
          "data": {
            "text/plain": [
              "90.99"
            ]
          },
          "metadata": {},
          "execution_count": 15
        }
      ]
    },
    {
      "cell_type": "code",
      "source": [
        "#Function to check whether given string is palindrome\n",
        "#amma\n",
        "#malayalam\n",
        "#rotor\n",
        "\n",
        "def palindrome(str1):\n",
        "  str1 = str1.lower()\n",
        "  if str1 == str1[::-1]:\n",
        "    return True\n",
        "  else:\n",
        "    return False\n"
      ],
      "metadata": {
        "id": "8Si6Kvg4Cofi"
      },
      "execution_count": 31,
      "outputs": []
    },
    {
      "cell_type": "code",
      "source": [
        "value = input(\"Enter a string \")\n",
        "if palindrome(value):\n",
        "  print(f\"{value} is palindrome\")\n",
        "else:\n",
        "  print(f\"{value} is not palindrome\")\n"
      ],
      "metadata": {
        "colab": {
          "base_uri": "https://localhost:8080/"
        },
        "id": "A8x4t6y6D7MZ",
        "outputId": "df9c610c-fde5-4a8f-a3fd-85d77696f4d5"
      },
      "execution_count": 32,
      "outputs": [
        {
          "output_type": "stream",
          "name": "stdout",
          "text": [
            "Enter a string Malayalam\n",
            "Malayalam is palindrome\n"
          ]
        }
      ]
    },
    {
      "cell_type": "code",
      "source": [
        "#.Write a function to calculate the factorial of a given number\n",
        "\n",
        "def factorial(num):\n",
        "  f=1\n",
        "  while num>0:\n",
        "    f = f*num\n",
        "    num-=1\n",
        "  return f\n"
      ],
      "metadata": {
        "id": "NbtE8cTBD-b5"
      },
      "execution_count": 33,
      "outputs": []
    },
    {
      "cell_type": "code",
      "source": [
        "factorial(5)"
      ],
      "metadata": {
        "colab": {
          "base_uri": "https://localhost:8080/"
        },
        "id": "3OuidRsWOV3W",
        "outputId": "147729d2-e6d1-4107-a3f3-26d07330f4d2"
      },
      "execution_count": 34,
      "outputs": [
        {
          "output_type": "execute_result",
          "data": {
            "text/plain": [
              "120"
            ]
          },
          "metadata": {},
          "execution_count": 34
        }
      ]
    },
    {
      "cell_type": "code",
      "source": [
        "#Write a function to find the largest number in a list\n",
        "\n",
        "def lar_list(list1):\n",
        "  larg = list1[0]\n",
        "  for element in list1:\n",
        "    if element>larg:\n",
        "      larg = element\n",
        "  return larg"
      ],
      "metadata": {
        "id": "sPWjfhywOdeD"
      },
      "execution_count": 35,
      "outputs": []
    },
    {
      "cell_type": "code",
      "source": [
        "lar_list([45,34,23,99,24])"
      ],
      "metadata": {
        "colab": {
          "base_uri": "https://localhost:8080/"
        },
        "id": "QoTup7VAPJjJ",
        "outputId": "e0f4ac55-ce2c-4489-c13e-2a04f756a462"
      },
      "execution_count": 36,
      "outputs": [
        {
          "output_type": "execute_result",
          "data": {
            "text/plain": [
              "99"
            ]
          },
          "metadata": {},
          "execution_count": 36
        }
      ]
    },
    {
      "cell_type": "code",
      "source": [
        "#Write a function to find all prime numbers in a given range\n",
        "\n",
        "\n",
        "def prime(num):\n",
        "  chk = 2\n",
        "  while chk<num:\n",
        "    if num%chk == 0:\n",
        "      return False\n",
        "    chk+=1\n",
        "  return True\n"
      ],
      "metadata": {
        "id": "PlGM5a0ePOoE"
      },
      "execution_count": 42,
      "outputs": []
    },
    {
      "cell_type": "code",
      "source": [
        "ran = int(input(\"Enter Range\"))\n",
        "for i in range(1,ran+1):\n",
        "  if prime(i):\n",
        "    print(i,end=\" \")"
      ],
      "metadata": {
        "colab": {
          "base_uri": "https://localhost:8080/"
        },
        "id": "CKdavKREPiVh",
        "outputId": "8e31a32e-b3f8-40f2-dbea-a00b1fe3bbe3"
      },
      "execution_count": 46,
      "outputs": [
        {
          "output_type": "stream",
          "name": "stdout",
          "text": [
            "Enter Range100\n",
            "1 2 3 5 7 11 13 17 19 23 29 31 37 41 43 47 53 59 61 67 71 73 79 83 89 97 "
          ]
        }
      ]
    },
    {
      "cell_type": "code",
      "source": [
        "#Count the number of digits in a given number using a while loop.\n",
        "\n",
        "num = int(input(\"Enter Number\"))\n",
        "count = 0\n",
        "while num>0:\n",
        "  rem = num%10\n",
        "  count+=1\n",
        "  num=num//10\n",
        "\n",
        "print(count)\n",
        "\n",
        "  #1234   rem=4 num=123  count=1\n",
        "  #123    rem=3 num=12   count=2\n",
        "  #12     rem=2 num=1    count=3\n",
        "  #1      rem=1  num=0   count=4"
      ],
      "metadata": {
        "colab": {
          "base_uri": "https://localhost:8080/"
        },
        "id": "Qj2ScEcJQuRu",
        "outputId": "c532f3b3-1720-42fd-f846-e1d68911e462"
      },
      "execution_count": 47,
      "outputs": [
        {
          "output_type": "stream",
          "name": "stdout",
          "text": [
            "Enter Number1234\n",
            "4\n"
          ]
        }
      ]
    },
    {
      "cell_type": "code",
      "source": [],
      "metadata": {
        "id": "aYM9RknRSM2r"
      },
      "execution_count": null,
      "outputs": []
    }
  ]
}